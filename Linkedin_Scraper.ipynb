{
  "nbformat": 4,
  "nbformat_minor": 0,
  "metadata": {
    "colab": {
      "provenance": [],
      "authorship_tag": "ABX9TyNVIKgGYxLKXUMDGBxdv9X1",
      "include_colab_link": true
    },
    "kernelspec": {
      "name": "python3",
      "display_name": "Python 3"
    },
    "language_info": {
      "name": "python"
    }
  },
  "cells": [
    {
      "cell_type": "markdown",
      "metadata": {
        "id": "view-in-github",
        "colab_type": "text"
      },
      "source": [
        "<a href=\"https://colab.research.google.com/github/ConfusedKlutz/linkedin_scraper/blob/main/Linkedin_Scraper.ipynb\" target=\"_parent\"><img src=\"https://colab.research.google.com/assets/colab-badge.svg\" alt=\"Open In Colab\"/></a>"
      ]
    },
    {
      "cell_type": "code",
      "execution_count": 5,
      "metadata": {
        "id": "sAvm_7LPiS2a"
      },
      "outputs": [],
      "source": [
        "#linkedin job and location list scraper\n",
        "import pandas as pd\n",
        "import requests\n",
        "from bs4 import BeautifulSoup\n",
        "import re\n",
        "import time\n",
        "import random\n",
        "\n",
        "df=pd.DataFrame(columns=['Job','Location','Link'])"
      ]
    },
    {
      "cell_type": "code",
      "source": [
        "title = \"Software Engineer\"\n",
        "location = \"Singapore\"\n"
      ],
      "metadata": {
        "id": "H6Y_xlPPGg-d"
      },
      "execution_count": 6,
      "outputs": []
    },
    {
      "cell_type": "code",
      "source": [
        "# import requests\n",
        "# from bs4 import BeautifulSoup\n",
        "\n",
        "# # Step 1: Get the list of jobs\n",
        "# list_url = \"https://www.linkedin.com/jobs-guest/jobs/api/seeMoreJobPostings/search?keywords=Software%2BEngineer&location=United%2BStates&start=25\"\n",
        "# response = requests.get(list_url)\n",
        "\n",
        "# # Check if the request was successful\n",
        "# print(\"List URL Status Code:\", response.status_code)\n",
        "\n",
        "# print(response.text)\n",
        "\n"
      ],
      "metadata": {
        "id": "D6tCyuDpGlYV"
      },
      "execution_count": 7,
      "outputs": []
    },
    {
      "cell_type": "code",
      "source": [
        "import requests\n",
        "from bs4 import BeautifulSoup\n",
        "import pandas as pd\n",
        "\n",
        "def fetch_job_listings(job_title, location, start=0):\n",
        "    job_title_encoded = job_title.replace(' ', '%2B')\n",
        "    location_encoded = location.replace(' ', '%2B')\n",
        "    list_url = f\"https://www.linkedin.com/jobs-guest/jobs/api/seeMoreJobPostings/search?keywords={job_title_encoded}&location={location_encoded}&start={start}\"\n",
        "    response = requests.get(list_url)\n",
        "\n",
        "    if response.status_code == 200:\n",
        "        print(\"Successfully retrieved job listings.\")\n",
        "    else:\n",
        "        print(f\"Failed to retrieve job listings. Status code: {response.status_code}\")\n",
        "        response.raise_for_status()\n",
        "\n",
        "    soup = BeautifulSoup(response.text, 'html.parser')\n",
        "\n",
        "    job_titles = []\n",
        "    company_names = []\n",
        "    locations = []\n",
        "    job_links = []\n",
        "\n",
        "    job_cards = soup.find_all('div', class_='base-search-card__info')\n",
        "\n",
        "    for job in job_cards:\n",
        "        title = job.find('h3', class_='base-search-card__title').get_text(strip=True)\n",
        "        job_titles.append(title)\n",
        "\n",
        "        company = job.find('h4', class_='base-search-card__subtitle').get_text(strip=True)\n",
        "        company_names.append(company)\n",
        "\n",
        "        location = job.find('span', class_='job-search-card__location').get_text(strip=True)\n",
        "        locations.append(location)\n",
        "\n",
        "        link_tag = job.find_previous('a', class_='base-card__full-link')\n",
        "        job_link = link_tag['href'] if link_tag else None\n",
        "        job_links.append(job_link)\n",
        "\n",
        "    jobs_df = pd.DataFrame({\n",
        "        'Job Title': job_titles,\n",
        "        'Company Name': company_names,\n",
        "        'Location': locations,\n",
        "        'Job Link': job_links\n",
        "    })\n",
        "\n",
        "    pd.set_option('display.max_colwidth', None)\n",
        "    print(jobs_df.to_markdown(index=False))\n",
        "\n",
        "job_title_input = input(\"Enter the job title (e.g., Software Engineer): \")\n",
        "location_input = input(\"Enter the location (e.g., United States): \")\n",
        "fetch_job_listings(job_title_input, location_input)\n"
      ],
      "metadata": {
        "colab": {
          "base_uri": "https://localhost:8080/"
        },
        "id": "AmBm7Djnenfx",
        "outputId": "daa12dc5-7e00-4543-db84-aa9b6a42080f"
      },
      "execution_count": 16,
      "outputs": [
        {
          "output_type": "stream",
          "name": "stdout",
          "text": [
            "Enter the job title (e.g., Software Engineer): software engineer\n",
            "Enter the location (e.g., United States): delhi, india\n",
            "Successfully retrieved job listings.\n",
            "| Job Title                                    | Company Name          | Location                 | Job Link                                                                                                                                                                                                                                   |\n",
            "|:---------------------------------------------|:----------------------|:-------------------------|:-------------------------------------------------------------------------------------------------------------------------------------------------------------------------------------------------------------------------------------------|\n",
            "| Software Engineer, University Graduate, 2025 | Google                | Gurgaon, Haryana, India  | https://in.linkedin.com/jobs/view/software-engineer-university-graduate-2025-at-google-3967728970?position=1&pageNum=0&refId=tL23r74mgjBff9C9hHnaew%3D%3D&trackingId=2kCzd0IGR7Sv4LYAOXNzMA%3D%3D&trk=public_jobs_jserp-result_search-card |\n",
            "| Frontend Developer                           | Jio                   | Gurgaon, Haryana, India  | https://in.linkedin.com/jobs/view/frontend-developer-at-jio-3983042356?position=2&pageNum=0&refId=tL23r74mgjBff9C9hHnaew%3D%3D&trackingId=whoOdOkwCE99hJRa7ZLUhA%3D%3D&trk=public_jobs_jserp-result_search-card                            |\n",
            "| Frontend Developer                           | Capgemini Engineering | Gurugram, Haryana, India | https://in.linkedin.com/jobs/view/frontend-developer-at-capgemini-engineering-3999027218?position=3&pageNum=0&refId=tL23r74mgjBff9C9hHnaew%3D%3D&trackingId=ueWkrICWwHbUN51wOJkl6g%3D%3D&trk=public_jobs_jserp-result_search-card          |\n",
            "| SQL Developer                                | Capgemini Engineering | Gurugram, Haryana, India | https://in.linkedin.com/jobs/view/sql-developer-at-capgemini-engineering-3999042888?position=4&pageNum=0&refId=tL23r74mgjBff9C9hHnaew%3D%3D&trackingId=4Op8hr6QFnlm4xBNxcxkJA%3D%3D&trk=public_jobs_jserp-result_search-card               |\n",
            "| Software Engineer                            | Microsoft             | Delhi, India             | https://in.linkedin.com/jobs/view/software-engineer-at-microsoft-4001443762?position=5&pageNum=0&refId=tL23r74mgjBff9C9hHnaew%3D%3D&trackingId=uaPtSVtI%2FJ065V4evDedqg%3D%3D&trk=public_jobs_jserp-result_search-card                     |\n",
            "| Software Engineer - Frontend                 | HDFC Bank             | Gurugram, Haryana, India | https://in.linkedin.com/jobs/view/software-engineer-frontend-at-hdfc-bank-3999074439?position=6&pageNum=0&refId=tL23r74mgjBff9C9hHnaew%3D%3D&trackingId=98%2F1P7cbn7OdEDpJCFvHHw%3D%3D&trk=public_jobs_jserp-result_search-card            |\n",
            "| Software Developer                           | Shiprocket            | Delhi, India             | https://in.linkedin.com/jobs/view/software-developer-at-shiprocket-3628562065?position=7&pageNum=0&refId=tL23r74mgjBff9C9hHnaew%3D%3D&trackingId=OV2HBIE9Gp6klxurlTkHfg%3D%3D&trk=public_jobs_jserp-result_search-card                     |\n",
            "| Software Engineer - Backend                  | HDFC Bank             | Gurugram, Haryana, India | https://in.linkedin.com/jobs/view/software-engineer-backend-at-hdfc-bank-3999071991?position=8&pageNum=0&refId=tL23r74mgjBff9C9hHnaew%3D%3D&trackingId=9gChw0oMDDlfZBGJfo2Tjg%3D%3D&trk=public_jobs_jserp-result_search-card               |\n",
            "| Frontend Developer                           | Shiprocket            | Delhi, India             | https://in.linkedin.com/jobs/view/frontend-developer-at-shiprocket-3676640555?position=9&pageNum=0&refId=tL23r74mgjBff9C9hHnaew%3D%3D&trackingId=RzWRhQ5S0FBREM5VGHTtdg%3D%3D&trk=public_jobs_jserp-result_search-card                     |\n",
            "| Nykaa - Android Developer - Java/Kotlin      | Nykaa                 | Gurugram, Haryana, India | https://in.linkedin.com/jobs/view/nykaa-android-developer-java-kotlin-at-nykaa-3941881916?position=10&pageNum=0&refId=tL23r74mgjBff9C9hHnaew%3D%3D&trackingId=TnGAerp87U2m7qrVmkzKBg%3D%3D&trk=public_jobs_jserp-result_search-card        |\n"
          ]
        }
      ]
    }
  ]
}